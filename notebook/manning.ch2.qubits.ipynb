{
 "cells": [
  {
   "cell_type": "markdown",
   "metadata": {},
   "source": [
    "# Manning Chapter 2: Qubits"
   ]
  },
  {
   "cell_type": "code",
   "execution_count": 6,
   "metadata": {},
   "outputs": [],
   "source": [
    "from __future__ import annotations\n",
    "\n",
    "import numpy as np\n",
    "from IPython.display import display\n",
    "\n",
    "from abc import ABCMeta, abstractmethod\n",
    "from contextlib import contextmanager"
   ]
  },
  {
   "cell_type": "markdown",
   "metadata": {},
   "source": [
    "## Basic qubits\n",
    "\n",
    "### ket\n",
    "\n",
    "`ket`表示的是**state**（状态），常用的为：\n",
    "\n",
    "$$\\left| 0 \\right> = \\begin{bmatrix}1\\\\0\\end{bmatrix}$$\n",
    "$$\\left| 1 \\right> = \\begin{bmatrix}0\\\\1\\end{bmatrix}$$\n",
    "$$\\left| + \\right> = (\\left| 0 \\right> + \\left| 1 \\right>)/\\sqrt{2}$$\n",
    "$$\\left| - \\right> = (\\left| 0 \\right> - \\left| 1 \\right>)/\\sqrt{2}$$"
   ]
  },
  {
   "cell_type": "code",
   "execution_count": 3,
   "metadata": {},
   "outputs": [
    {
     "name": "stdout",
     "output_type": "stream",
     "text": [
      "[[1]\n",
      " [0]]\n",
      "[[0]\n",
      " [1]]\n",
      "[[0.70710678]\n",
      " [0.70710678]]\n",
      "[[ 0.70710678]\n",
      " [-0.70710678]]\n"
     ]
    },
    {
     "data": {
      "text/plain": [
       "[None, None, None, None]"
      ]
     },
     "execution_count": 3,
     "metadata": {},
     "output_type": "execute_result"
    }
   ],
   "source": [
    "ket0 = np.array([[1], [0]])\n",
    "ket1 = np.array([[0], [1]])\n",
    "ket_plus = (ket0 + ket1) / np.sqrt(2)\n",
    "ket_minus = (ket0 - ket1) / np.sqrt(2)\n",
    "\n",
    "[print(x) for x in [ket0, ket1, ket_plus, ket_minus]]"
   ]
  },
  {
   "cell_type": "markdown",
   "metadata": {},
   "source": [
    "### bra\n",
    "\n",
    "`bra` 表示测量，并且满足\n",
    "\n",
    "$$P(测量|状态) = |\\left<测量 \\middle| 状态\\right>|^2$$\n",
    "\n",
    "其中，$\\left<x\\middle|y\\right>$表示内积。"
   ]
  },
  {
   "cell_type": "markdown",
   "metadata": {},
   "source": [
    "### 泡利矩阵\n",
    "\n",
    "\n",
    "\n",
    "$$\\sigma_x = \\begin{pmatrix} 0 & 1 \\\\ 1 & 0 \\end{pmatrix}$$\n",
    "\n",
    "满足\n",
    "\n",
    "$$\\sigma_x \\left| 0 \\right> = \\left| 1 \\right>$$\n",
    "$$\\sigma_x \\left| 1 \\right> = \\left| 0 \\right>$$"
   ]
  },
  {
   "cell_type": "markdown",
   "metadata": {},
   "source": [
    "### Hadamard算子\n",
    "\n",
    "$$H = \\frac{1}{\\sqrt{2}}\\begin{pmatrix}1 & 1\\\\1 & -1\\end{pmatrix}$$"
   ]
  },
  {
   "cell_type": "code",
   "execution_count": 4,
   "metadata": {},
   "outputs": [],
   "source": [
    "hadamard_operator = 1 / np.sqrt(2) * np.array([[1, 1], [1, -1]])"
   ]
  },
  {
   "cell_type": "markdown",
   "metadata": {},
   "source": [
    "**Hadamard算子** $H$满足：\n",
    "\n",
    "$$H \\left| 0 \\right> = \\left| + \\right>$$\n",
    "$$H \\left| 1 \\right> = \\left| - \\right>$$"
   ]
  },
  {
   "cell_type": "code",
   "execution_count": 5,
   "metadata": {},
   "outputs": [
    {
     "data": {
      "text/plain": [
       "array([[ True],\n",
       "       [ True]])"
      ]
     },
     "metadata": {},
     "output_type": "display_data"
    },
    {
     "data": {
      "text/plain": [
       "array([[ True],\n",
       "       [ True]])"
      ]
     },
     "metadata": {},
     "output_type": "display_data"
    }
   ],
   "source": [
    "display(hadamard_operator @ ket0 == ket_plus)\n",
    "display(hadamard_operator @ ket1 == ket_minus)"
   ]
  },
  {
   "cell_type": "markdown",
   "metadata": {},
   "source": [
    "## 产生随机数的例子"
   ]
  },
  {
   "cell_type": "code",
   "execution_count": 17,
   "metadata": {},
   "outputs": [],
   "source": [
    "class Qubit(metaclass=ABCMeta):\n",
    "    \"\"\"量子比特抽象类\n",
    "    \"\"\"\n",
    "    @abstractmethod\n",
    "    def h(self):\n",
    "        \"\"\"Hadamard算子\n",
    "        \"\"\"\n",
    "    \n",
    "    @abstractmethod\n",
    "    def measure(self) -> bool:\n",
    "        \"\"\"测量\n",
    "        \"\"\"\n",
    "    \n",
    "    @abstractmethod\n",
    "    def reset(self):\n",
    "        \"\"\"重置\n",
    "        \"\"\"\n",
    "\n",
    "class QuantumDevice(metaclass=ABCMeta):\n",
    "    \"\"\"量子设备\n",
    "    \"\"\"\n",
    "    @abstractmethod\n",
    "    def allocate_qubit(self) -> Qubit:\n",
    "        \"\"\"获取量子比特\n",
    "        \"\"\"\n",
    "        pass\n",
    "    \n",
    "    @abstractmethod\n",
    "    def deallocate_qubit(self, qubit: Qubit):\n",
    "        \"\"\"释放量子比特\n",
    "        \"\"\"\n",
    "        pass\n",
    "    \n",
    "    @contextmanager\n",
    "    def using_qubit(self):\n",
    "        \"\"\"生成量子比特\n",
    "        \"\"\"\n",
    "        qubit = self.allocate_qubit()\n",
    "        try:\n",
    "            yield qubit\n",
    "        finally:\n",
    "            qubit.reset()\n",
    "            self.deallocate_qubit(qubit)"
   ]
  },
  {
   "cell_type": "code",
   "execution_count": 18,
   "metadata": {},
   "outputs": [],
   "source": [
    "def qrng(device: QuantumDevice) -> bool:\n",
    "    \"\"\"产生随机数\n",
    "    \"\"\"\n",
    "    with device.using_qubit() as q:\n",
    "        q.h()\n",
    "        return q.measure()"
   ]
  },
  {
   "cell_type": "code",
   "execution_count": 19,
   "metadata": {},
   "outputs": [],
   "source": [
    "class SimulateQubit(Qubit):\n",
    "    \"\"\"量子比特模拟器\n",
    "    \"\"\"\n",
    "    def __init__(self):\n",
    "        self.reset()\n",
    "        \n",
    "    def h(self):\n",
    "        \"\"\"Hadamard算子\n",
    "        \"\"\"\n",
    "        self.state = hadamard_operator @ self.state\n",
    "    \n",
    "    def measure(self) -> bool:\n",
    "        \"\"\"测量\n",
    "        \"\"\"\n",
    "        pr0 = np.abs(self.state[0, 0]) ** 2\n",
    "        sample = np.random.random() <= pr0\n",
    "        return bool(0 if sample else 1)\n",
    "    \n",
    "    def reset(self):\n",
    "        \"\"\"重置\n",
    "        \"\"\"\n",
    "        self.state = ket0.copy()"
   ]
  },
  {
   "cell_type": "code",
   "execution_count": 20,
   "metadata": {},
   "outputs": [],
   "source": [
    "class SingleQubitSimulator(QuantumDevice):\n",
    "    \"\"\"单量子比特模拟器\n",
    "    \"\"\"\n",
    "    def allocate_qubit(self) -> Qubit:\n",
    "        return SimulateQubit()\n",
    "    \n",
    "    def deallocate_qubit(self, qubit: Qubit):\n",
    "        pass"
   ]
  },
  {
   "cell_type": "code",
   "execution_count": 22,
   "metadata": {},
   "outputs": [
    {
     "name": "stdout",
     "output_type": "stream",
     "text": [
      "False\n",
      "False\n",
      "True\n",
      "False\n",
      "False\n",
      "True\n",
      "False\n",
      "True\n",
      "True\n",
      "True\n"
     ]
    }
   ],
   "source": [
    "## 打印结果\n",
    "qsim = SingleQubitSimulator()\n",
    "for i in range(10):\n",
    "    sample = qrng(qsim)\n",
    "    print(f\"{sample}\")"
   ]
  }
 ],
 "metadata": {
  "kernelspec": {
   "display_name": "Python 3",
   "language": "python",
   "name": "python3"
  },
  "language_info": {
   "codemirror_mode": {
    "name": "ipython",
    "version": 3
   },
   "file_extension": ".py",
   "mimetype": "text/x-python",
   "name": "python",
   "nbconvert_exporter": "python",
   "pygments_lexer": "ipython3",
   "version": "3.7.4"
  }
 },
 "nbformat": 4,
 "nbformat_minor": 4
}
