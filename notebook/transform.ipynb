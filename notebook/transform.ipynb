{
 "cells": [
  {
   "cell_type": "code",
   "execution_count": 57,
   "metadata": {},
   "outputs": [],
   "source": [
    "import sys\n",
    "import numpy as np\n",
    "from IPython.display import display\n",
    "\n",
    "sys.path.append('../')\n",
    "\n",
    "from qctools import (\n",
    "    plot_bloch_for_qubits as plt,\n",
    "    get_bloch_coordinates,\n",
    "    const as c,\n",
    "    op as o,\n",
    "    ket,\n",
    "    bra\n",
    ")\n",
    "\n",
    "def q_equal(x, y):\n",
    "    return (~np.equal(x, y)).sum() == 0"
   ]
  },
  {
   "cell_type": "markdown",
   "metadata": {},
   "source": [
    "$$X \\left| 1 \\right> == \\left| 0 \\right>$$\n",
    "$$X \\left| 0 \\right> == \\left| 1 \\right>$$\n",
    "$$X \\left| + \\right> == \\left| - \\right>$$\n",
    "$$X \\left| - \\right> == \\left| + \\right>$$\n",
    "$$Z \\left| ↺ \\right> == \\left| ↻ \\right>$$\n",
    "$$Z \\left| ↻ \\right> == \\left| ↺ \\right>$$\n",
    "$$XX = YY = ZZ = HH = I = SS^{\\dagger} = TT^{\\dagger}$$\n",
    "$$ $$"
   ]
  },
  {
   "cell_type": "code",
   "execution_count": 80,
   "metadata": {},
   "outputs": [
    {
     "data": {
      "text/plain": [
       "True"
      ]
     },
     "metadata": {},
     "output_type": "display_data"
    },
    {
     "data": {
      "text/plain": [
       "True"
      ]
     },
     "metadata": {},
     "output_type": "display_data"
    },
    {
     "data": {
      "text/plain": [
       "False"
      ]
     },
     "metadata": {},
     "output_type": "display_data"
    },
    {
     "data": {
      "text/plain": [
       "False"
      ]
     },
     "metadata": {},
     "output_type": "display_data"
    },
    {
     "data": {
      "text/plain": [
       "True"
      ]
     },
     "metadata": {},
     "output_type": "display_data"
    },
    {
     "data": {
      "text/plain": [
       "True"
      ]
     },
     "metadata": {},
     "output_type": "display_data"
    }
   ],
   "source": [
    "display(np.allclose(c.X @ ket(\"1\"), ket(\"0\")))\n",
    "display(np.allclose(c.X @ ket(\"0\"), ket(\"1\")))\n",
    "display(np.allclose(c.X @ ket(\"-\"), ket(\"+\")))\n",
    "display(np.allclose(c.Y @ ket(\"+\"), ket(\"-\")))\n",
    "display(np.allclose(c.Z @ ket(\">\"), ket(\"<\")))\n",
    "display(np.allclose(c.Z @ ket(\"<\"), ket(\">\")))"
   ]
  }
 ],
 "metadata": {
  "kernelspec": {
   "display_name": "Python (Quantum)",
   "language": "python",
   "name": "quantum"
  },
  "language_info": {
   "codemirror_mode": {
    "name": "ipython",
    "version": 3
   },
   "file_extension": ".py",
   "mimetype": "text/x-python",
   "name": "python",
   "nbconvert_exporter": "python",
   "pygments_lexer": "ipython3",
   "version": "3.7.9"
  }
 },
 "nbformat": 4,
 "nbformat_minor": 4
}
