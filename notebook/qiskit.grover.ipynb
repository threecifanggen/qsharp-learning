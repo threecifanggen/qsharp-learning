{
 "cells": [
  {
   "cell_type": "markdown",
   "metadata": {},
   "source": [
    "# Grover算法\n"
   ]
  },
  {
   "cell_type": "code",
   "execution_count": 1,
   "metadata": {},
   "outputs": [
    {
     "name": "stderr",
     "output_type": "stream",
     "text": [
      "/Users/kitakarashin/opt/anaconda3/envs/quantum/lib/python3.7/site-packages/ipykernel_launcher.py:3: DeprecationWarning: The module qiskit.extensions.standard is deprecated as of 0.14.0 and will be removed no earlier than 3 months after the release. You should import the standard gates from qiskit.circuit.library.standard_gates instead.\n",
      "  This is separate from the ipykernel package so we can avoid doing imports until\n",
      "/Users/kitakarashin/opt/anaconda3/envs/quantum/lib/python3.7/site-packages/ipykernel_launcher.py:3: DeprecationWarning: This module is deprecated.\n",
      "  This is separate from the ipykernel package so we can avoid doing imports until\n",
      "/Users/kitakarashin/opt/anaconda3/envs/quantum/lib/python3.7/site-packages/qiskit/providers/ibmq/ibmqfactory.py:109: UserWarning: Timestamps in IBMQ backend properties, jobs, and job results are all now in local time instead of UTC.\n",
      "  warnings.warn('Timestamps in IBMQ backend properties, jobs, and job results '\n"
     ]
    }
   ],
   "source": [
    "import os\n",
    "\n",
    "from qiskit.extensions.standard import ccx\n",
    "from qiskit import ClassicalRegister, QuantumCircuit, QuantumRegister, execute\n",
    "from qiskit import IBMQ, Aer\n",
    "from qiskit.tools.visualization import plot_histogram, plot_state_city\n",
    "\n",
    "\n",
    "IBMQ.enable_account(os.getenv('IBMQ'))\n",
    "backend = Aer.get_backend('statevector_simulator')"
   ]
  }
 ],
 "metadata": {
  "kernelspec": {
   "display_name": "Python (Quantum)",
   "language": "python",
   "name": "quantum"
  },
  "language_info": {
   "codemirror_mode": {
    "name": "ipython",
    "version": 3
   },
   "file_extension": ".py",
   "mimetype": "text/x-python",
   "name": "python",
   "nbconvert_exporter": "python",
   "pygments_lexer": "ipython3",
   "version": "3.7.9"
  }
 },
 "nbformat": 4,
 "nbformat_minor": 4
}
